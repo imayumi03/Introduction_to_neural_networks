{
 "cells": [
  {
   "cell_type": "markdown",
   "id": "8289bbb8-4ebd-4660-ac53-c617bd244c2a",
   "metadata": {},
   "source": [
    "# Part 1\n"
   ]
  },
  {
   "cell_type": "code",
   "execution_count": null,
   "id": "6f091c41-1b95-4778-ad87-e85261d03eb5",
   "metadata": {},
   "outputs": [],
   "source": [
    "#!pip install numpy==1.21.4\n",
    "#!pip install pandas==1.3.4\n",
    "#!pip install keras==2.1.6"
   ]
  },
  {
   "cell_type": "code",
   "execution_count": 1,
   "id": "b549a348-99ea-41dd-8d73-a42904b968bf",
   "metadata": {
    "tags": []
   },
   "outputs": [
    {
     "name": "stdout",
     "output_type": "stream",
     "text": [
      "/resources/DL0101EN/labs/Week4\n"
     ]
    }
   ],
   "source": [
    "import os\n",
    "print(os.getcwd())"
   ]
  },
  {
   "cell_type": "code",
   "execution_count": 2,
   "id": "c89a9b1f-b056-435f-b5cf-126bcf650f22",
   "metadata": {
    "tags": []
   },
   "outputs": [
    {
     "name": "stdout",
     "output_type": "stream",
     "text": [
      "<class 'pandas.core.frame.DataFrame'>\n",
      "RangeIndex: 1030 entries, 0 to 1029\n",
      "Data columns (total 9 columns):\n",
      " #   Column              Non-Null Count  Dtype  \n",
      "---  ------              --------------  -----  \n",
      " 0   Cement              1030 non-null   float64\n",
      " 1   Blast Furnace Slag  1030 non-null   float64\n",
      " 2   Fly Ash             1030 non-null   float64\n",
      " 3   Water               1030 non-null   float64\n",
      " 4   Superplasticizer    1030 non-null   float64\n",
      " 5   Coarse Aggregate    1030 non-null   float64\n",
      " 6   Fine Aggregate      1030 non-null   float64\n",
      " 7   Age                 1030 non-null   int64  \n",
      " 8   Strength            1030 non-null   float64\n",
      "dtypes: float64(8), int64(1)\n",
      "memory usage: 72.5 KB\n"
     ]
    },
    {
     "data": {
      "text/plain": [
       "(   Cement  Blast Furnace Slag  Fly Ash  Water  Superplasticizer  \\\n",
       " 0   540.0                 0.0      0.0  162.0               2.5   \n",
       " 1   540.0                 0.0      0.0  162.0               2.5   \n",
       " 2   332.5               142.5      0.0  228.0               0.0   \n",
       " 3   332.5               142.5      0.0  228.0               0.0   \n",
       " 4   198.6               132.4      0.0  192.0               0.0   \n",
       " \n",
       "    Coarse Aggregate  Fine Aggregate  Age  Strength  \n",
       " 0            1040.0           676.0   28     79.99  \n",
       " 1            1055.0           676.0   28     61.89  \n",
       " 2             932.0           594.0  270     40.27  \n",
       " 3             932.0           594.0  365     41.05  \n",
       " 4             978.4           825.5  360     44.30  ,\n",
       " None)"
      ]
     },
     "execution_count": 2,
     "metadata": {},
     "output_type": "execute_result"
    }
   ],
   "source": [
    "import pandas as pd\n",
    "# Load the dataset\n",
    "file_path = 'concrete_data.csv'\n",
    "data = pd.read_csv(file_path)\n",
    "\n",
    "# Display the first few rows and general information about the dataset\n",
    "data.head(), data.info()"
   ]
  },
  {
   "cell_type": "code",
   "execution_count": 3,
   "id": "2052014a-ba19-4814-b76f-c97744a6d1b3",
   "metadata": {
    "tags": []
   },
   "outputs": [
    {
     "data": {
      "text/html": [
       "<div>\n",
       "<style scoped>\n",
       "    .dataframe tbody tr th:only-of-type {\n",
       "        vertical-align: middle;\n",
       "    }\n",
       "\n",
       "    .dataframe tbody tr th {\n",
       "        vertical-align: top;\n",
       "    }\n",
       "\n",
       "    .dataframe thead th {\n",
       "        text-align: right;\n",
       "    }\n",
       "</style>\n",
       "<table border=\"1\" class=\"dataframe\">\n",
       "  <thead>\n",
       "    <tr style=\"text-align: right;\">\n",
       "      <th></th>\n",
       "      <th>Cement</th>\n",
       "      <th>Blast Furnace Slag</th>\n",
       "      <th>Fly Ash</th>\n",
       "      <th>Water</th>\n",
       "      <th>Superplasticizer</th>\n",
       "      <th>Coarse Aggregate</th>\n",
       "      <th>Fine Aggregate</th>\n",
       "      <th>Age</th>\n",
       "      <th>Strength</th>\n",
       "    </tr>\n",
       "  </thead>\n",
       "  <tbody>\n",
       "    <tr>\n",
       "      <th>count</th>\n",
       "      <td>1030.000000</td>\n",
       "      <td>1030.000000</td>\n",
       "      <td>1030.000000</td>\n",
       "      <td>1030.000000</td>\n",
       "      <td>1030.000000</td>\n",
       "      <td>1030.000000</td>\n",
       "      <td>1030.000000</td>\n",
       "      <td>1030.000000</td>\n",
       "      <td>1030.000000</td>\n",
       "    </tr>\n",
       "    <tr>\n",
       "      <th>mean</th>\n",
       "      <td>281.167864</td>\n",
       "      <td>73.895825</td>\n",
       "      <td>54.188350</td>\n",
       "      <td>181.567282</td>\n",
       "      <td>6.204660</td>\n",
       "      <td>972.918932</td>\n",
       "      <td>773.580485</td>\n",
       "      <td>45.662136</td>\n",
       "      <td>35.817961</td>\n",
       "    </tr>\n",
       "    <tr>\n",
       "      <th>std</th>\n",
       "      <td>104.506364</td>\n",
       "      <td>86.279342</td>\n",
       "      <td>63.997004</td>\n",
       "      <td>21.354219</td>\n",
       "      <td>5.973841</td>\n",
       "      <td>77.753954</td>\n",
       "      <td>80.175980</td>\n",
       "      <td>63.169912</td>\n",
       "      <td>16.705742</td>\n",
       "    </tr>\n",
       "    <tr>\n",
       "      <th>min</th>\n",
       "      <td>102.000000</td>\n",
       "      <td>0.000000</td>\n",
       "      <td>0.000000</td>\n",
       "      <td>121.800000</td>\n",
       "      <td>0.000000</td>\n",
       "      <td>801.000000</td>\n",
       "      <td>594.000000</td>\n",
       "      <td>1.000000</td>\n",
       "      <td>2.330000</td>\n",
       "    </tr>\n",
       "    <tr>\n",
       "      <th>25%</th>\n",
       "      <td>192.375000</td>\n",
       "      <td>0.000000</td>\n",
       "      <td>0.000000</td>\n",
       "      <td>164.900000</td>\n",
       "      <td>0.000000</td>\n",
       "      <td>932.000000</td>\n",
       "      <td>730.950000</td>\n",
       "      <td>7.000000</td>\n",
       "      <td>23.710000</td>\n",
       "    </tr>\n",
       "    <tr>\n",
       "      <th>50%</th>\n",
       "      <td>272.900000</td>\n",
       "      <td>22.000000</td>\n",
       "      <td>0.000000</td>\n",
       "      <td>185.000000</td>\n",
       "      <td>6.400000</td>\n",
       "      <td>968.000000</td>\n",
       "      <td>779.500000</td>\n",
       "      <td>28.000000</td>\n",
       "      <td>34.445000</td>\n",
       "    </tr>\n",
       "    <tr>\n",
       "      <th>75%</th>\n",
       "      <td>350.000000</td>\n",
       "      <td>142.950000</td>\n",
       "      <td>118.300000</td>\n",
       "      <td>192.000000</td>\n",
       "      <td>10.200000</td>\n",
       "      <td>1029.400000</td>\n",
       "      <td>824.000000</td>\n",
       "      <td>56.000000</td>\n",
       "      <td>46.135000</td>\n",
       "    </tr>\n",
       "    <tr>\n",
       "      <th>max</th>\n",
       "      <td>540.000000</td>\n",
       "      <td>359.400000</td>\n",
       "      <td>200.100000</td>\n",
       "      <td>247.000000</td>\n",
       "      <td>32.200000</td>\n",
       "      <td>1145.000000</td>\n",
       "      <td>992.600000</td>\n",
       "      <td>365.000000</td>\n",
       "      <td>82.600000</td>\n",
       "    </tr>\n",
       "  </tbody>\n",
       "</table>\n",
       "</div>"
      ],
      "text/plain": [
       "            Cement  Blast Furnace Slag      Fly Ash        Water  \\\n",
       "count  1030.000000         1030.000000  1030.000000  1030.000000   \n",
       "mean    281.167864           73.895825    54.188350   181.567282   \n",
       "std     104.506364           86.279342    63.997004    21.354219   \n",
       "min     102.000000            0.000000     0.000000   121.800000   \n",
       "25%     192.375000            0.000000     0.000000   164.900000   \n",
       "50%     272.900000           22.000000     0.000000   185.000000   \n",
       "75%     350.000000          142.950000   118.300000   192.000000   \n",
       "max     540.000000          359.400000   200.100000   247.000000   \n",
       "\n",
       "       Superplasticizer  Coarse Aggregate  Fine Aggregate          Age  \\\n",
       "count       1030.000000       1030.000000     1030.000000  1030.000000   \n",
       "mean           6.204660        972.918932      773.580485    45.662136   \n",
       "std            5.973841         77.753954       80.175980    63.169912   \n",
       "min            0.000000        801.000000      594.000000     1.000000   \n",
       "25%            0.000000        932.000000      730.950000     7.000000   \n",
       "50%            6.400000        968.000000      779.500000    28.000000   \n",
       "75%           10.200000       1029.400000      824.000000    56.000000   \n",
       "max           32.200000       1145.000000      992.600000   365.000000   \n",
       "\n",
       "          Strength  \n",
       "count  1030.000000  \n",
       "mean     35.817961  \n",
       "std      16.705742  \n",
       "min       2.330000  \n",
       "25%      23.710000  \n",
       "50%      34.445000  \n",
       "75%      46.135000  \n",
       "max      82.600000  "
      ]
     },
     "execution_count": 3,
     "metadata": {},
     "output_type": "execute_result"
    }
   ],
   "source": [
    "data.describe()"
   ]
  },
  {
   "cell_type": "code",
   "execution_count": 4,
   "id": "5a782ccc-0d33-4947-9ee4-fe197cf98129",
   "metadata": {
    "tags": []
   },
   "outputs": [
    {
     "data": {
      "text/plain": [
       "(1030, 9)"
      ]
     },
     "execution_count": 4,
     "metadata": {},
     "output_type": "execute_result"
    }
   ],
   "source": [
    "data.shape"
   ]
  },
  {
   "cell_type": "code",
   "execution_count": 5,
   "id": "504ed6f8-56e6-4ac0-bd19-ac33e69b7885",
   "metadata": {
    "tags": []
   },
   "outputs": [
    {
     "data": {
      "text/plain": [
       "Cement                0\n",
       "Blast Furnace Slag    0\n",
       "Fly Ash               0\n",
       "Water                 0\n",
       "Superplasticizer      0\n",
       "Coarse Aggregate      0\n",
       "Fine Aggregate        0\n",
       "Age                   0\n",
       "Strength              0\n",
       "dtype: int64"
      ]
     },
     "execution_count": 5,
     "metadata": {},
     "output_type": "execute_result"
    }
   ],
   "source": [
    "data.isnull().sum()"
   ]
  },
  {
   "cell_type": "code",
   "execution_count": 6,
   "id": "d01f997a-9e9a-4134-8ff1-af7d44e64162",
   "metadata": {
    "tags": []
   },
   "outputs": [
    {
     "data": {
      "text/html": [
       "<div>\n",
       "<style scoped>\n",
       "    .dataframe tbody tr th:only-of-type {\n",
       "        vertical-align: middle;\n",
       "    }\n",
       "\n",
       "    .dataframe tbody tr th {\n",
       "        vertical-align: top;\n",
       "    }\n",
       "\n",
       "    .dataframe thead th {\n",
       "        text-align: right;\n",
       "    }\n",
       "</style>\n",
       "<table border=\"1\" class=\"dataframe\">\n",
       "  <thead>\n",
       "    <tr style=\"text-align: right;\">\n",
       "      <th></th>\n",
       "      <th>Cement</th>\n",
       "      <th>Blast Furnace Slag</th>\n",
       "      <th>Fly Ash</th>\n",
       "      <th>Water</th>\n",
       "      <th>Superplasticizer</th>\n",
       "      <th>Coarse Aggregate</th>\n",
       "      <th>Fine Aggregate</th>\n",
       "      <th>Age</th>\n",
       "    </tr>\n",
       "  </thead>\n",
       "  <tbody>\n",
       "    <tr>\n",
       "      <th>0</th>\n",
       "      <td>540.0</td>\n",
       "      <td>0.0</td>\n",
       "      <td>0.0</td>\n",
       "      <td>162.0</td>\n",
       "      <td>2.5</td>\n",
       "      <td>1040.0</td>\n",
       "      <td>676.0</td>\n",
       "      <td>28</td>\n",
       "    </tr>\n",
       "    <tr>\n",
       "      <th>1</th>\n",
       "      <td>540.0</td>\n",
       "      <td>0.0</td>\n",
       "      <td>0.0</td>\n",
       "      <td>162.0</td>\n",
       "      <td>2.5</td>\n",
       "      <td>1055.0</td>\n",
       "      <td>676.0</td>\n",
       "      <td>28</td>\n",
       "    </tr>\n",
       "    <tr>\n",
       "      <th>2</th>\n",
       "      <td>332.5</td>\n",
       "      <td>142.5</td>\n",
       "      <td>0.0</td>\n",
       "      <td>228.0</td>\n",
       "      <td>0.0</td>\n",
       "      <td>932.0</td>\n",
       "      <td>594.0</td>\n",
       "      <td>270</td>\n",
       "    </tr>\n",
       "    <tr>\n",
       "      <th>3</th>\n",
       "      <td>332.5</td>\n",
       "      <td>142.5</td>\n",
       "      <td>0.0</td>\n",
       "      <td>228.0</td>\n",
       "      <td>0.0</td>\n",
       "      <td>932.0</td>\n",
       "      <td>594.0</td>\n",
       "      <td>365</td>\n",
       "    </tr>\n",
       "    <tr>\n",
       "      <th>4</th>\n",
       "      <td>198.6</td>\n",
       "      <td>132.4</td>\n",
       "      <td>0.0</td>\n",
       "      <td>192.0</td>\n",
       "      <td>0.0</td>\n",
       "      <td>978.4</td>\n",
       "      <td>825.5</td>\n",
       "      <td>360</td>\n",
       "    </tr>\n",
       "  </tbody>\n",
       "</table>\n",
       "</div>"
      ],
      "text/plain": [
       "   Cement  Blast Furnace Slag  Fly Ash  Water  Superplasticizer  \\\n",
       "0   540.0                 0.0      0.0  162.0               2.5   \n",
       "1   540.0                 0.0      0.0  162.0               2.5   \n",
       "2   332.5               142.5      0.0  228.0               0.0   \n",
       "3   332.5               142.5      0.0  228.0               0.0   \n",
       "4   198.6               132.4      0.0  192.0               0.0   \n",
       "\n",
       "   Coarse Aggregate  Fine Aggregate  Age  \n",
       "0            1040.0           676.0   28  \n",
       "1            1055.0           676.0   28  \n",
       "2             932.0           594.0  270  \n",
       "3             932.0           594.0  365  \n",
       "4             978.4           825.5  360  "
      ]
     },
     "execution_count": 6,
     "metadata": {},
     "output_type": "execute_result"
    }
   ],
   "source": [
    "data_columns = data.columns\n",
    "\n",
    "# Select predictors by excluding the 'Strength' column\n",
    "predictors = data[data_columns[data_columns != \"Strength\"]]\n",
    "\n",
    "# Set target to the 'Strength' column\n",
    "target = data[\"Strength\"]\n",
    "\n",
    "predictors.head()\n"
   ]
  },
  {
   "cell_type": "code",
   "execution_count": 11,
   "id": "3d0adefb-41ee-4eeb-9d99-7033cbd925d8",
   "metadata": {
    "tags": []
   },
   "outputs": [
    {
     "data": {
      "text/html": [
       "<div>\n",
       "<style scoped>\n",
       "    .dataframe tbody tr th:only-of-type {\n",
       "        vertical-align: middle;\n",
       "    }\n",
       "\n",
       "    .dataframe tbody tr th {\n",
       "        vertical-align: top;\n",
       "    }\n",
       "\n",
       "    .dataframe thead th {\n",
       "        text-align: right;\n",
       "    }\n",
       "</style>\n",
       "<table border=\"1\" class=\"dataframe\">\n",
       "  <thead>\n",
       "    <tr style=\"text-align: right;\">\n",
       "      <th></th>\n",
       "      <th>Cement</th>\n",
       "      <th>Blast Furnace Slag</th>\n",
       "      <th>Fly Ash</th>\n",
       "      <th>Water</th>\n",
       "      <th>Superplasticizer</th>\n",
       "      <th>Coarse Aggregate</th>\n",
       "      <th>Fine Aggregate</th>\n",
       "      <th>Age</th>\n",
       "    </tr>\n",
       "  </thead>\n",
       "  <tbody>\n",
       "    <tr>\n",
       "      <th>count</th>\n",
       "      <td>1030.000000</td>\n",
       "      <td>1030.000000</td>\n",
       "      <td>1030.000000</td>\n",
       "      <td>1030.000000</td>\n",
       "      <td>1030.000000</td>\n",
       "      <td>1030.000000</td>\n",
       "      <td>1030.000000</td>\n",
       "      <td>1030.000000</td>\n",
       "    </tr>\n",
       "    <tr>\n",
       "      <th>mean</th>\n",
       "      <td>281.167864</td>\n",
       "      <td>73.895825</td>\n",
       "      <td>54.188350</td>\n",
       "      <td>181.567282</td>\n",
       "      <td>6.204660</td>\n",
       "      <td>972.918932</td>\n",
       "      <td>773.580485</td>\n",
       "      <td>45.662136</td>\n",
       "    </tr>\n",
       "    <tr>\n",
       "      <th>std</th>\n",
       "      <td>104.506364</td>\n",
       "      <td>86.279342</td>\n",
       "      <td>63.997004</td>\n",
       "      <td>21.354219</td>\n",
       "      <td>5.973841</td>\n",
       "      <td>77.753954</td>\n",
       "      <td>80.175980</td>\n",
       "      <td>63.169912</td>\n",
       "    </tr>\n",
       "    <tr>\n",
       "      <th>min</th>\n",
       "      <td>102.000000</td>\n",
       "      <td>0.000000</td>\n",
       "      <td>0.000000</td>\n",
       "      <td>121.800000</td>\n",
       "      <td>0.000000</td>\n",
       "      <td>801.000000</td>\n",
       "      <td>594.000000</td>\n",
       "      <td>1.000000</td>\n",
       "    </tr>\n",
       "    <tr>\n",
       "      <th>25%</th>\n",
       "      <td>192.375000</td>\n",
       "      <td>0.000000</td>\n",
       "      <td>0.000000</td>\n",
       "      <td>164.900000</td>\n",
       "      <td>0.000000</td>\n",
       "      <td>932.000000</td>\n",
       "      <td>730.950000</td>\n",
       "      <td>7.000000</td>\n",
       "    </tr>\n",
       "    <tr>\n",
       "      <th>50%</th>\n",
       "      <td>272.900000</td>\n",
       "      <td>22.000000</td>\n",
       "      <td>0.000000</td>\n",
       "      <td>185.000000</td>\n",
       "      <td>6.400000</td>\n",
       "      <td>968.000000</td>\n",
       "      <td>779.500000</td>\n",
       "      <td>28.000000</td>\n",
       "    </tr>\n",
       "    <tr>\n",
       "      <th>75%</th>\n",
       "      <td>350.000000</td>\n",
       "      <td>142.950000</td>\n",
       "      <td>118.300000</td>\n",
       "      <td>192.000000</td>\n",
       "      <td>10.200000</td>\n",
       "      <td>1029.400000</td>\n",
       "      <td>824.000000</td>\n",
       "      <td>56.000000</td>\n",
       "    </tr>\n",
       "    <tr>\n",
       "      <th>max</th>\n",
       "      <td>540.000000</td>\n",
       "      <td>359.400000</td>\n",
       "      <td>200.100000</td>\n",
       "      <td>247.000000</td>\n",
       "      <td>32.200000</td>\n",
       "      <td>1145.000000</td>\n",
       "      <td>992.600000</td>\n",
       "      <td>365.000000</td>\n",
       "    </tr>\n",
       "  </tbody>\n",
       "</table>\n",
       "</div>"
      ],
      "text/plain": [
       "            Cement  Blast Furnace Slag      Fly Ash        Water  \\\n",
       "count  1030.000000         1030.000000  1030.000000  1030.000000   \n",
       "mean    281.167864           73.895825    54.188350   181.567282   \n",
       "std     104.506364           86.279342    63.997004    21.354219   \n",
       "min     102.000000            0.000000     0.000000   121.800000   \n",
       "25%     192.375000            0.000000     0.000000   164.900000   \n",
       "50%     272.900000           22.000000     0.000000   185.000000   \n",
       "75%     350.000000          142.950000   118.300000   192.000000   \n",
       "max     540.000000          359.400000   200.100000   247.000000   \n",
       "\n",
       "       Superplasticizer  Coarse Aggregate  Fine Aggregate          Age  \n",
       "count       1030.000000       1030.000000     1030.000000  1030.000000  \n",
       "mean           6.204660        972.918932      773.580485    45.662136  \n",
       "std            5.973841         77.753954       80.175980    63.169912  \n",
       "min            0.000000        801.000000      594.000000     1.000000  \n",
       "25%            0.000000        932.000000      730.950000     7.000000  \n",
       "50%            6.400000        968.000000      779.500000    28.000000  \n",
       "75%           10.200000       1029.400000      824.000000    56.000000  \n",
       "max           32.200000       1145.000000      992.600000   365.000000  "
      ]
     },
     "execution_count": 11,
     "metadata": {},
     "output_type": "execute_result"
    }
   ],
   "source": [
    "predictors.describe()"
   ]
  },
  {
   "cell_type": "code",
   "execution_count": 12,
   "id": "d6d3ead7-53c1-417e-8920-86840cb9e9b6",
   "metadata": {
    "tags": []
   },
   "outputs": [
    {
     "data": {
      "text/html": [
       "<div>\n",
       "<style scoped>\n",
       "    .dataframe tbody tr th:only-of-type {\n",
       "        vertical-align: middle;\n",
       "    }\n",
       "\n",
       "    .dataframe tbody tr th {\n",
       "        vertical-align: top;\n",
       "    }\n",
       "\n",
       "    .dataframe thead th {\n",
       "        text-align: right;\n",
       "    }\n",
       "</style>\n",
       "<table border=\"1\" class=\"dataframe\">\n",
       "  <thead>\n",
       "    <tr style=\"text-align: right;\">\n",
       "      <th></th>\n",
       "      <th>Cement</th>\n",
       "      <th>Blast Furnace Slag</th>\n",
       "      <th>Fly Ash</th>\n",
       "      <th>Water</th>\n",
       "      <th>Superplasticizer</th>\n",
       "      <th>Coarse Aggregate</th>\n",
       "      <th>Fine Aggregate</th>\n",
       "      <th>Age</th>\n",
       "    </tr>\n",
       "  </thead>\n",
       "  <tbody>\n",
       "    <tr>\n",
       "      <th>0</th>\n",
       "      <td>2.476712</td>\n",
       "      <td>-0.856472</td>\n",
       "      <td>-0.846733</td>\n",
       "      <td>-0.916319</td>\n",
       "      <td>-0.620147</td>\n",
       "      <td>0.862735</td>\n",
       "      <td>-1.217079</td>\n",
       "      <td>-0.279597</td>\n",
       "    </tr>\n",
       "    <tr>\n",
       "      <th>1</th>\n",
       "      <td>2.476712</td>\n",
       "      <td>-0.856472</td>\n",
       "      <td>-0.846733</td>\n",
       "      <td>-0.916319</td>\n",
       "      <td>-0.620147</td>\n",
       "      <td>1.055651</td>\n",
       "      <td>-1.217079</td>\n",
       "      <td>-0.279597</td>\n",
       "    </tr>\n",
       "    <tr>\n",
       "      <th>2</th>\n",
       "      <td>0.491187</td>\n",
       "      <td>0.795140</td>\n",
       "      <td>-0.846733</td>\n",
       "      <td>2.174405</td>\n",
       "      <td>-1.038638</td>\n",
       "      <td>-0.526262</td>\n",
       "      <td>-2.239829</td>\n",
       "      <td>3.551340</td>\n",
       "    </tr>\n",
       "    <tr>\n",
       "      <th>3</th>\n",
       "      <td>0.491187</td>\n",
       "      <td>0.795140</td>\n",
       "      <td>-0.846733</td>\n",
       "      <td>2.174405</td>\n",
       "      <td>-1.038638</td>\n",
       "      <td>-0.526262</td>\n",
       "      <td>-2.239829</td>\n",
       "      <td>5.055221</td>\n",
       "    </tr>\n",
       "    <tr>\n",
       "      <th>4</th>\n",
       "      <td>-0.790075</td>\n",
       "      <td>0.678079</td>\n",
       "      <td>-0.846733</td>\n",
       "      <td>0.488555</td>\n",
       "      <td>-1.038638</td>\n",
       "      <td>0.070492</td>\n",
       "      <td>0.647569</td>\n",
       "      <td>4.976069</td>\n",
       "    </tr>\n",
       "  </tbody>\n",
       "</table>\n",
       "</div>"
      ],
      "text/plain": [
       "     Cement  Blast Furnace Slag   Fly Ash     Water  Superplasticizer  \\\n",
       "0  2.476712           -0.856472 -0.846733 -0.916319         -0.620147   \n",
       "1  2.476712           -0.856472 -0.846733 -0.916319         -0.620147   \n",
       "2  0.491187            0.795140 -0.846733  2.174405         -1.038638   \n",
       "3  0.491187            0.795140 -0.846733  2.174405         -1.038638   \n",
       "4 -0.790075            0.678079 -0.846733  0.488555         -1.038638   \n",
       "\n",
       "   Coarse Aggregate  Fine Aggregate       Age  \n",
       "0          0.862735       -1.217079 -0.279597  \n",
       "1          1.055651       -1.217079 -0.279597  \n",
       "2         -0.526262       -2.239829  3.551340  \n",
       "3         -0.526262       -2.239829  5.055221  \n",
       "4          0.070492        0.647569  4.976069  "
      ]
     },
     "execution_count": 12,
     "metadata": {},
     "output_type": "execute_result"
    }
   ],
   "source": [
    "predictors_norm = (predictors - predictors.mean()) / predictors.std()\n",
    "predictors_norm.head()"
   ]
  },
  {
   "cell_type": "code",
   "execution_count": 13,
   "id": "af36285d-f85b-435d-aed2-0bd8b312b9e7",
   "metadata": {
    "tags": []
   },
   "outputs": [
    {
     "data": {
      "text/plain": [
       "0    79.99\n",
       "1    61.89\n",
       "2    40.27\n",
       "3    41.05\n",
       "4    44.30\n",
       "Name: Strength, dtype: float64"
      ]
     },
     "execution_count": 13,
     "metadata": {},
     "output_type": "execute_result"
    }
   ],
   "source": [
    "target.head()"
   ]
  },
  {
   "cell_type": "code",
   "execution_count": 8,
   "id": "da99a3a3-4428-4c98-916f-203ced7a27e0",
   "metadata": {
    "tags": []
   },
   "outputs": [
    {
     "name": "stderr",
     "output_type": "stream",
     "text": [
      "Using TensorFlow backend.\n",
      "/home/jupyterlab/conda/envs/python/lib/python3.7/site-packages/tensorflow/python/framework/dtypes.py:516: FutureWarning: Passing (type, 1) or '1type' as a synonym of type is deprecated; in a future version of numpy, it will be understood as (type, (1,)) / '(1,)type'.\n",
      "  _np_qint8 = np.dtype([(\"qint8\", np.int8, 1)])\n",
      "/home/jupyterlab/conda/envs/python/lib/python3.7/site-packages/tensorflow/python/framework/dtypes.py:517: FutureWarning: Passing (type, 1) or '1type' as a synonym of type is deprecated; in a future version of numpy, it will be understood as (type, (1,)) / '(1,)type'.\n",
      "  _np_quint8 = np.dtype([(\"quint8\", np.uint8, 1)])\n",
      "/home/jupyterlab/conda/envs/python/lib/python3.7/site-packages/tensorflow/python/framework/dtypes.py:518: FutureWarning: Passing (type, 1) or '1type' as a synonym of type is deprecated; in a future version of numpy, it will be understood as (type, (1,)) / '(1,)type'.\n",
      "  _np_qint16 = np.dtype([(\"qint16\", np.int16, 1)])\n",
      "/home/jupyterlab/conda/envs/python/lib/python3.7/site-packages/tensorflow/python/framework/dtypes.py:519: FutureWarning: Passing (type, 1) or '1type' as a synonym of type is deprecated; in a future version of numpy, it will be understood as (type, (1,)) / '(1,)type'.\n",
      "  _np_quint16 = np.dtype([(\"quint16\", np.uint16, 1)])\n",
      "/home/jupyterlab/conda/envs/python/lib/python3.7/site-packages/tensorflow/python/framework/dtypes.py:520: FutureWarning: Passing (type, 1) or '1type' as a synonym of type is deprecated; in a future version of numpy, it will be understood as (type, (1,)) / '(1,)type'.\n",
      "  _np_qint32 = np.dtype([(\"qint32\", np.int32, 1)])\n",
      "/home/jupyterlab/conda/envs/python/lib/python3.7/site-packages/tensorflow/python/framework/dtypes.py:525: FutureWarning: Passing (type, 1) or '1type' as a synonym of type is deprecated; in a future version of numpy, it will be understood as (type, (1,)) / '(1,)type'.\n",
      "  np_resource = np.dtype([(\"resource\", np.ubyte, 1)])\n",
      "/home/jupyterlab/conda/envs/python/lib/python3.7/site-packages/tensorboard/compat/tensorflow_stub/dtypes.py:541: FutureWarning: Passing (type, 1) or '1type' as a synonym of type is deprecated; in a future version of numpy, it will be understood as (type, (1,)) / '(1,)type'.\n",
      "  _np_qint8 = np.dtype([(\"qint8\", np.int8, 1)])\n",
      "/home/jupyterlab/conda/envs/python/lib/python3.7/site-packages/tensorboard/compat/tensorflow_stub/dtypes.py:542: FutureWarning: Passing (type, 1) or '1type' as a synonym of type is deprecated; in a future version of numpy, it will be understood as (type, (1,)) / '(1,)type'.\n",
      "  _np_quint8 = np.dtype([(\"quint8\", np.uint8, 1)])\n",
      "/home/jupyterlab/conda/envs/python/lib/python3.7/site-packages/tensorboard/compat/tensorflow_stub/dtypes.py:543: FutureWarning: Passing (type, 1) or '1type' as a synonym of type is deprecated; in a future version of numpy, it will be understood as (type, (1,)) / '(1,)type'.\n",
      "  _np_qint16 = np.dtype([(\"qint16\", np.int16, 1)])\n",
      "/home/jupyterlab/conda/envs/python/lib/python3.7/site-packages/tensorboard/compat/tensorflow_stub/dtypes.py:544: FutureWarning: Passing (type, 1) or '1type' as a synonym of type is deprecated; in a future version of numpy, it will be understood as (type, (1,)) / '(1,)type'.\n",
      "  _np_quint16 = np.dtype([(\"quint16\", np.uint16, 1)])\n",
      "/home/jupyterlab/conda/envs/python/lib/python3.7/site-packages/tensorboard/compat/tensorflow_stub/dtypes.py:545: FutureWarning: Passing (type, 1) or '1type' as a synonym of type is deprecated; in a future version of numpy, it will be understood as (type, (1,)) / '(1,)type'.\n",
      "  _np_qint32 = np.dtype([(\"qint32\", np.int32, 1)])\n",
      "/home/jupyterlab/conda/envs/python/lib/python3.7/site-packages/tensorboard/compat/tensorflow_stub/dtypes.py:550: FutureWarning: Passing (type, 1) or '1type' as a synonym of type is deprecated; in a future version of numpy, it will be understood as (type, (1,)) / '(1,)type'.\n",
      "  np_resource = np.dtype([(\"resource\", np.ubyte, 1)])\n"
     ]
    }
   ],
   "source": [
    "import keras\n",
    "from keras.models import Sequential\n",
    "from keras.layers import Dense\n",
    "from keras.optimizers import Adam"
   ]
  },
  {
   "cell_type": "code",
   "execution_count": 9,
   "id": "f67e22fb-fe63-492c-ab9c-b754eeffc11d",
   "metadata": {
    "tags": []
   },
   "outputs": [],
   "source": [
    "def create_baseline_model(input_dim):\n",
    "    model = Sequential()\n",
    "    \n",
    "    # Add a hidden layer with 10 nodes and ReLU activation\n",
    "    model.add(Dense(10, activation='relu', input_shape=(input_dim,)))\n",
    "    \n",
    "    # Output layer with a single node for regression (no activation function)\n",
    "    model.add(Dense(1))\n",
    "    \n",
    "    # Compile the model with the Adam optimizer and Mean Squared Error as the loss function\n",
    "    model.compile(optimizer=Adam(), loss='mean_squared_error')\n",
    "    \n",
    "    return model"
   ]
  },
  {
   "cell_type": "code",
   "execution_count": 10,
   "id": "80bcc95d-984a-4d29-9960-3d34b4c10d43",
   "metadata": {
    "tags": []
   },
   "outputs": [
    {
     "name": "stdout",
     "output_type": "stream",
     "text": [
      "WARNING:tensorflow:From /home/jupyterlab/conda/envs/python/lib/python3.7/site-packages/keras/backend/tensorflow_backend.py:68: The name tf.get_default_graph is deprecated. Please use tf.compat.v1.get_default_graph instead.\n",
      "\n",
      "WARNING:tensorflow:From /home/jupyterlab/conda/envs/python/lib/python3.7/site-packages/keras/backend/tensorflow_backend.py:508: The name tf.placeholder is deprecated. Please use tf.compat.v1.placeholder instead.\n",
      "\n",
      "WARNING:tensorflow:From /home/jupyterlab/conda/envs/python/lib/python3.7/site-packages/keras/backend/tensorflow_backend.py:3837: The name tf.random_uniform is deprecated. Please use tf.random.uniform instead.\n",
      "\n",
      "WARNING:tensorflow:From /home/jupyterlab/conda/envs/python/lib/python3.7/site-packages/keras/optimizers.py:757: The name tf.train.Optimizer is deprecated. Please use tf.compat.v1.train.Optimizer instead.\n",
      "\n",
      "_________________________________________________________________\n",
      "Layer (type)                 Output Shape              Param #   \n",
      "=================================================================\n",
      "dense_1 (Dense)              (None, 10)                90        \n",
      "_________________________________________________________________\n",
      "dense_2 (Dense)              (None, 1)                 11        \n",
      "=================================================================\n",
      "Total params: 101\n",
      "Trainable params: 101\n",
      "Non-trainable params: 0\n",
      "_________________________________________________________________\n"
     ]
    }
   ],
   "source": [
    "# Set the input dimension based on the predictors (number of features)\n",
    "input_dim = predictors.shape[1]  # Assuming predictors is already defined\n",
    "\n",
    "# Create the baseline model\n",
    "baseline_model = create_baseline_model(input_dim)\n",
    "\n",
    "# Display the model summary\n",
    "baseline_model.summary()"
   ]
  },
  {
   "cell_type": "code",
   "execution_count": 15,
   "id": "097bfc2c-b61b-464b-bb43-d3521f5411fb",
   "metadata": {
    "tags": []
   },
   "outputs": [
    {
     "name": "stderr",
     "output_type": "stream",
     "text": [
      "/home/jupyterlab/conda/envs/python/lib/python3.7/site-packages/sklearn/utils/validation.py:37: DeprecationWarning: distutils Version classes are deprecated. Use packaging.version instead.\n",
      "  LARGE_SPARSE_SUPPORTED = LooseVersion(scipy_version) >= '0.14.0'\n"
     ]
    }
   ],
   "source": [
    "from sklearn.model_selection import train_test_split"
   ]
  },
  {
   "cell_type": "code",
   "execution_count": 16,
   "id": "16930936-4ada-4610-b9f3-0b33d466e20c",
   "metadata": {
    "tags": []
   },
   "outputs": [
    {
     "data": {
      "text/plain": [
       "((721, 8), (309, 8), (721,), (309,))"
      ]
     },
     "execution_count": 16,
     "metadata": {},
     "output_type": "execute_result"
    }
   ],
   "source": [
    "# Redefine predictors and target from the loaded data\n",
    "predictors = data.drop(columns=['Strength'])  # All columns except 'Strength' are predictors\n",
    "target = data['Strength']  # 'Strength' is the target variable\n",
    "\n",
    "# Perform a 70-30 split for training and testing\n",
    "X_train, X_test, y_train, y_test = train_test_split(predictors, target, test_size=0.3, random_state=42)\n",
    "\n",
    "# Display the shapes of the split data to confirm\n",
    "X_train.shape, X_test.shape, y_train.shape, y_test.shape"
   ]
  },
  {
   "cell_type": "code",
   "execution_count": 21,
   "id": "c64d3a4e-8964-450f-b94b-341980fd19a8",
   "metadata": {
    "tags": []
   },
   "outputs": [
    {
     "name": "stdout",
     "output_type": "stream",
     "text": [
      "Train on 504 samples, validate on 217 samples\n",
      "Epoch 1/50\n",
      "504/504 [==============================] - 0s 54us/step - loss: 114.9765 - val_loss: 106.6541\n",
      "Epoch 2/50\n",
      "504/504 [==============================] - 0s 74us/step - loss: 122.8303 - val_loss: 147.5725\n",
      "Epoch 3/50\n",
      "504/504 [==============================] - 0s 71us/step - loss: 128.3317 - val_loss: 106.6025\n",
      "Epoch 4/50\n",
      "504/504 [==============================] - 0s 75us/step - loss: 114.7788 - val_loss: 109.6161\n",
      "Epoch 5/50\n",
      "504/504 [==============================] - 0s 51us/step - loss: 111.4405 - val_loss: 106.9498\n",
      "Epoch 6/50\n",
      "504/504 [==============================] - 0s 72us/step - loss: 113.5621 - val_loss: 108.5859\n",
      "Epoch 7/50\n",
      "504/504 [==============================] - 0s 73us/step - loss: 111.5263 - val_loss: 125.1932\n",
      "Epoch 8/50\n",
      "504/504 [==============================] - 0s 78us/step - loss: 114.3604 - val_loss: 104.5255\n",
      "Epoch 9/50\n",
      "504/504 [==============================] - 0s 73us/step - loss: 111.5242 - val_loss: 104.5098\n",
      "Epoch 10/50\n",
      "504/504 [==============================] - 0s 51us/step - loss: 110.0658 - val_loss: 119.7076\n",
      "Epoch 11/50\n",
      "504/504 [==============================] - 0s 70us/step - loss: 114.1511 - val_loss: 105.4845\n",
      "Epoch 12/50\n",
      "504/504 [==============================] - 0s 75us/step - loss: 112.5051 - val_loss: 110.3169\n",
      "Epoch 13/50\n",
      "504/504 [==============================] - 0s 50us/step - loss: 107.5379 - val_loss: 104.9239\n",
      "Epoch 14/50\n",
      "504/504 [==============================] - 0s 71us/step - loss: 112.0014 - val_loss: 104.5289\n",
      "Epoch 15/50\n",
      "504/504 [==============================] - 0s 77us/step - loss: 112.0069 - val_loss: 107.0927\n",
      "Epoch 16/50\n",
      "504/504 [==============================] - 0s 71us/step - loss: 116.8984 - val_loss: 103.7564\n",
      "Epoch 17/50\n",
      "504/504 [==============================] - 0s 57us/step - loss: 109.4485 - val_loss: 107.4590\n",
      "Epoch 18/50\n",
      "504/504 [==============================] - 0s 69us/step - loss: 110.9822 - val_loss: 103.2477\n",
      "Epoch 19/50\n",
      "504/504 [==============================] - 0s 69us/step - loss: 115.1014 - val_loss: 119.3948\n",
      "Epoch 20/50\n",
      "504/504 [==============================] - 0s 74us/step - loss: 110.3932 - val_loss: 129.4581\n",
      "Epoch 21/50\n",
      "504/504 [==============================] - 0s 55us/step - loss: 117.8492 - val_loss: 104.8350\n",
      "Epoch 22/50\n",
      "504/504 [==============================] - 0s 67us/step - loss: 116.4239 - val_loss: 111.4667\n",
      "Epoch 23/50\n",
      "504/504 [==============================] - 0s 72us/step - loss: 112.6955 - val_loss: 103.3109\n",
      "Epoch 24/50\n",
      "504/504 [==============================] - 0s 60us/step - loss: 109.8199 - val_loss: 103.6139\n",
      "Epoch 25/50\n",
      "504/504 [==============================] - 0s 66us/step - loss: 110.4126 - val_loss: 102.9156\n",
      "Epoch 26/50\n",
      "504/504 [==============================] - 0s 71us/step - loss: 113.7475 - val_loss: 107.5608\n",
      "Epoch 27/50\n",
      "504/504 [==============================] - 0s 83us/step - loss: 110.4149 - val_loss: 103.2777\n",
      "Epoch 28/50\n",
      "504/504 [==============================] - 0s 81us/step - loss: 111.0614 - val_loss: 114.4056\n",
      "Epoch 29/50\n",
      "504/504 [==============================] - 0s 79us/step - loss: 118.2268 - val_loss: 102.0835\n",
      "Epoch 30/50\n",
      "504/504 [==============================] - 0s 72us/step - loss: 108.7383 - val_loss: 102.6969\n",
      "Epoch 31/50\n",
      "504/504 [==============================] - 0s 74us/step - loss: 110.5149 - val_loss: 103.2964\n",
      "Epoch 32/50\n",
      "504/504 [==============================] - 0s 70us/step - loss: 109.6650 - val_loss: 103.0389\n",
      "Epoch 33/50\n",
      "504/504 [==============================] - 0s 54us/step - loss: 110.3330 - val_loss: 102.9817\n",
      "Epoch 34/50\n",
      "504/504 [==============================] - 0s 72us/step - loss: 108.8430 - val_loss: 102.7766\n",
      "Epoch 35/50\n",
      "504/504 [==============================] - 0s 71us/step - loss: 108.3291 - val_loss: 103.7054\n",
      "Epoch 36/50\n",
      "504/504 [==============================] - 0s 70us/step - loss: 109.5845 - val_loss: 106.3987\n",
      "Epoch 37/50\n",
      "504/504 [==============================] - 0s 58us/step - loss: 110.7386 - val_loss: 102.5344\n",
      "Epoch 38/50\n",
      "504/504 [==============================] - 0s 66us/step - loss: 108.4079 - val_loss: 108.1588\n",
      "Epoch 39/50\n",
      "504/504 [==============================] - 0s 53us/step - loss: 108.3246 - val_loss: 115.0268\n",
      "Epoch 40/50\n",
      "504/504 [==============================] - 0s 54us/step - loss: 110.2846 - val_loss: 101.9736\n",
      "Epoch 41/50\n",
      "504/504 [==============================] - 0s 76us/step - loss: 113.7026 - val_loss: 103.2534\n",
      "Epoch 42/50\n",
      "504/504 [==============================] - 0s 67us/step - loss: 110.5787 - val_loss: 129.3137\n",
      "Epoch 43/50\n",
      "504/504 [==============================] - 0s 53us/step - loss: 119.4642 - val_loss: 107.1188\n",
      "Epoch 44/50\n",
      "504/504 [==============================] - 0s 75us/step - loss: 126.2474 - val_loss: 103.7754\n",
      "Epoch 45/50\n",
      "504/504 [==============================] - 0s 72us/step - loss: 112.1049 - val_loss: 107.9817\n",
      "Epoch 46/50\n",
      "504/504 [==============================] - 0s 56us/step - loss: 106.8278 - val_loss: 103.1411\n",
      "Epoch 47/50\n",
      "504/504 [==============================] - 0s 61us/step - loss: 107.9258 - val_loss: 102.4632\n",
      "Epoch 48/50\n",
      "504/504 [==============================] - 0s 69us/step - loss: 109.4627 - val_loss: 104.3776\n",
      "Epoch 49/50\n",
      "504/504 [==============================] - 0s 66us/step - loss: 108.8815 - val_loss: 106.0426\n",
      "Epoch 50/50\n",
      "504/504 [==============================] - 0s 58us/step - loss: 111.8037 - val_loss: 122.1747\n"
     ]
    },
    {
     "data": {
      "text/plain": [
       "<keras.callbacks.History at 0x7f2a33a63f50>"
      ]
     },
     "execution_count": 21,
     "metadata": {},
     "output_type": "execute_result"
    }
   ],
   "source": [
    "baseline_model.fit(X_train,y_train,validation_split=0.3,epochs=50,verbose=1)"
   ]
  },
  {
   "cell_type": "code",
   "execution_count": 20,
   "id": "b4ef52f7-c5fb-4f5f-b00e-f27fd38c5a4b",
   "metadata": {
    "tags": []
   },
   "outputs": [],
   "source": [
    "from sklearn.metrics import mean_squared_error"
   ]
  },
  {
   "cell_type": "code",
   "execution_count": 22,
   "id": "3bc21f37-a6a4-4f0c-b3fa-82475fe29cfc",
   "metadata": {
    "tags": []
   },
   "outputs": [
    {
     "name": "stdout",
     "output_type": "stream",
     "text": [
      "Mean Squared Error on Test Data: 120.89287970348799\n"
     ]
    }
   ],
   "source": [
    "# 3. Evaluate the model on the test data\n",
    "y_pred = baseline_model.predict(X_test)\n",
    "\n",
    "# Calculate the mean squared error\n",
    "mse = mean_squared_error(y_test, y_pred)\n",
    "print(\"Mean Squared Error on Test Data:\", mse)"
   ]
  },
  {
   "cell_type": "code",
   "execution_count": 24,
   "id": "bfe8ccd1-8bcf-4a5c-942d-06e5e43cde4c",
   "metadata": {
    "tags": []
   },
   "outputs": [
    {
     "data": {
      "text/plain": [
       "(322.60398410989944, 288.41718893172686)"
      ]
     },
     "execution_count": 24,
     "metadata": {},
     "output_type": "execute_result"
    }
   ],
   "source": [
    "import numpy as np \n",
    "# List to store MSEs from each iteration\n",
    "mse_list = []\n",
    "\n",
    "for i in range(50):\n",
    "    # 1. Split the data (with random_state changing on each iteration for true randomness)\n",
    "    X_train, X_test, y_train, y_test = train_test_split(predictors, target, test_size=0.3)\n",
    "    \n",
    "    # 2. Create a new instance of the model\n",
    "    model = create_baseline_model(input_dim)\n",
    "    \n",
    "    # Train the model\n",
    "    model.fit(X_train, y_train, epochs=50, verbose=0)\n",
    "    \n",
    "    # 3. Predict on the test set and calculate MSE\n",
    "    y_pred = model.predict(X_test)\n",
    "    mse = mean_squared_error(y_test, y_pred)\n",
    "    \n",
    "    # Append the MSE to the list\n",
    "    mse_list.append(mse)\n",
    "    \n",
    "# 5. Calculate the mean and standard deviation of the MSEs\n",
    "mse_mean = np.mean(mse_list)\n",
    "mse_std = np.std(mse_list)\n",
    "\n",
    "mse_mean, mse_std"
   ]
  },
  {
   "cell_type": "code",
   "execution_count": 25,
   "id": "264fd4aa-77ad-4555-b27d-ffd380da8ede",
   "metadata": {
    "tags": []
   },
   "outputs": [
    {
     "data": {
      "text/plain": [
       "[87.60943049084447,\n",
       " 245.18619515414215,\n",
       " 639.1172891833953,\n",
       " 105.7393189593071,\n",
       " 127.69519058722825,\n",
       " 261.5994297177079,\n",
       " 144.82982814658953,\n",
       " 125.19706592670461,\n",
       " 123.67108221348978,\n",
       " 120.41121859139298,\n",
       " 284.8029298537829,\n",
       " 155.96610655572564,\n",
       " 495.01326717645674,\n",
       " 214.76948359504445,\n",
       " 135.44832432736405,\n",
       " 91.04843797161732,\n",
       " 245.51985005049403,\n",
       " 149.8241815870972,\n",
       " 77.50348684170793,\n",
       " 445.69782691188925,\n",
       " 206.29214603708454,\n",
       " 151.11372725441424,\n",
       " 123.13887611137783,\n",
       " 511.58597858709754,\n",
       " 1465.3017652927833,\n",
       " 723.4452637902286,\n",
       " 673.145622566251,\n",
       " 247.147768172811,\n",
       " 129.42458184326188,\n",
       " 145.60516611516863,\n",
       " 730.124541775548,\n",
       " 1292.036434344654,\n",
       " 247.16483808296604,\n",
       " 159.89888327790783,\n",
       " 85.7640880275343,\n",
       " 757.6266429174124,\n",
       " 481.2079201459588,\n",
       " 247.0394961298624,\n",
       " 436.7329079920284,\n",
       " 115.27439687100048,\n",
       " 533.0456768810221,\n",
       " 251.31679205676053,\n",
       " 334.5390922898107,\n",
       " 226.67657936433702,\n",
       " 201.53834660065024,\n",
       " 122.06344675362323,\n",
       " 301.4512258315104,\n",
       " 176.48939891962712,\n",
       " 174.9201872709843,\n",
       " 602.4374703493149]"
      ]
     },
     "execution_count": 25,
     "metadata": {},
     "output_type": "execute_result"
    }
   ],
   "source": [
    "mse_list"
   ]
  },
  {
   "cell_type": "markdown",
   "id": "56857a9a-c012-4570-8b6c-3d6d89a77a87",
   "metadata": {},
   "source": [
    "# Part B : variation de l' epochs (100)"
   ]
  },
  {
   "cell_type": "code",
   "execution_count": 26,
   "id": "da24af61-3a75-4d9f-897c-f37824c85cc1",
   "metadata": {
    "tags": []
   },
   "outputs": [
    {
     "name": "stdout",
     "output_type": "stream",
     "text": [
      "Train on 504 samples, validate on 217 samples\n",
      "Epoch 1/100\n",
      "504/504 [==============================] - 0s 102us/step - loss: 109.3477 - val_loss: 112.6080\n",
      "Epoch 2/100\n",
      "504/504 [==============================] - 0s 92us/step - loss: 101.8076 - val_loss: 115.9670\n",
      "Epoch 3/100\n",
      "504/504 [==============================] - 0s 110us/step - loss: 101.8943 - val_loss: 112.3903\n",
      "Epoch 4/100\n",
      "504/504 [==============================] - 0s 92us/step - loss: 106.3477 - val_loss: 108.6828\n",
      "Epoch 5/100\n",
      "504/504 [==============================] - 0s 106us/step - loss: 100.9005 - val_loss: 108.1685\n",
      "Epoch 6/100\n",
      "504/504 [==============================] - 0s 112us/step - loss: 99.8950 - val_loss: 108.6618\n",
      "Epoch 7/100\n",
      "504/504 [==============================] - 0s 95us/step - loss: 100.8462 - val_loss: 108.6092\n",
      "Epoch 8/100\n",
      "504/504 [==============================] - 0s 108us/step - loss: 100.3650 - val_loss: 108.6312\n",
      "Epoch 9/100\n",
      "504/504 [==============================] - 0s 89us/step - loss: 99.9946 - val_loss: 109.2550\n",
      "Epoch 10/100\n",
      "504/504 [==============================] - 0s 105us/step - loss: 99.8261 - val_loss: 109.8280\n",
      "Epoch 11/100\n",
      "504/504 [==============================] - 0s 89us/step - loss: 100.6547 - val_loss: 109.2735\n",
      "Epoch 12/100\n",
      "504/504 [==============================] - 0s 110us/step - loss: 100.7733 - val_loss: 113.0367\n",
      "Epoch 13/100\n",
      "504/504 [==============================] - 0s 97us/step - loss: 101.0901 - val_loss: 115.2524\n",
      "Epoch 14/100\n",
      "504/504 [==============================] - 0s 102us/step - loss: 104.5167 - val_loss: 108.6444\n",
      "Epoch 15/100\n",
      "504/504 [==============================] - 0s 95us/step - loss: 103.4335 - val_loss: 132.4778\n",
      "Epoch 16/100\n",
      "504/504 [==============================] - 0s 92us/step - loss: 109.7374 - val_loss: 109.7621\n",
      "Epoch 17/100\n",
      "504/504 [==============================] - 0s 100us/step - loss: 101.4014 - val_loss: 116.4958\n",
      "Epoch 18/100\n",
      "504/504 [==============================] - 0s 120us/step - loss: 107.4286 - val_loss: 122.6082\n",
      "Epoch 19/100\n",
      "504/504 [==============================] - 0s 102us/step - loss: 115.8832 - val_loss: 115.4861\n",
      "Epoch 20/100\n",
      "504/504 [==============================] - 0s 94us/step - loss: 112.2889 - val_loss: 108.4282\n",
      "Epoch 21/100\n",
      "504/504 [==============================] - 0s 108us/step - loss: 109.8850 - val_loss: 110.1183\n",
      "Epoch 22/100\n",
      "504/504 [==============================] - 0s 110us/step - loss: 101.0592 - val_loss: 108.7684\n",
      "Epoch 23/100\n",
      "504/504 [==============================] - 0s 100us/step - loss: 99.9007 - val_loss: 109.7749\n",
      "Epoch 24/100\n",
      "504/504 [==============================] - 0s 110us/step - loss: 102.7220 - val_loss: 115.3158\n",
      "Epoch 25/100\n",
      "504/504 [==============================] - 0s 114us/step - loss: 106.3996 - val_loss: 124.0017\n",
      "Epoch 26/100\n",
      "504/504 [==============================] - 0s 107us/step - loss: 102.6878 - val_loss: 120.2207\n",
      "Epoch 27/100\n",
      "504/504 [==============================] - 0s 95us/step - loss: 111.5306 - val_loss: 110.1642\n",
      "Epoch 28/100\n",
      "504/504 [==============================] - 0s 254us/step - loss: 107.4128 - val_loss: 122.5232\n",
      "Epoch 29/100\n",
      "504/504 [==============================] - 0s 122us/step - loss: 106.0970 - val_loss: 109.0705\n",
      "Epoch 30/100\n",
      "504/504 [==============================] - 0s 115us/step - loss: 101.2480 - val_loss: 109.1554\n",
      "Epoch 31/100\n",
      "504/504 [==============================] - 0s 96us/step - loss: 102.0059 - val_loss: 118.7785\n",
      "Epoch 32/100\n",
      "504/504 [==============================] - 0s 104us/step - loss: 105.6773 - val_loss: 110.2927\n",
      "Epoch 33/100\n",
      "504/504 [==============================] - 0s 102us/step - loss: 114.9349 - val_loss: 116.9974\n",
      "Epoch 34/100\n",
      "504/504 [==============================] - 0s 95us/step - loss: 103.9127 - val_loss: 109.6406\n",
      "Epoch 35/100\n",
      "504/504 [==============================] - 0s 101us/step - loss: 100.6576 - val_loss: 124.0058\n",
      "Epoch 36/100\n",
      "504/504 [==============================] - 0s 96us/step - loss: 101.4661 - val_loss: 112.4380\n",
      "Epoch 37/100\n",
      "504/504 [==============================] - 0s 103us/step - loss: 100.5912 - val_loss: 110.3145\n",
      "Epoch 38/100\n",
      "504/504 [==============================] - 0s 97us/step - loss: 104.7175 - val_loss: 111.7739\n",
      "Epoch 39/100\n",
      "504/504 [==============================] - 0s 115us/step - loss: 102.6116 - val_loss: 111.1904\n",
      "Epoch 40/100\n",
      "504/504 [==============================] - 0s 100us/step - loss: 101.8784 - val_loss: 114.1000\n",
      "Epoch 41/100\n",
      "504/504 [==============================] - 0s 95us/step - loss: 103.9393 - val_loss: 109.9668\n",
      "Epoch 42/100\n",
      "504/504 [==============================] - 0s 105us/step - loss: 100.8974 - val_loss: 112.1601\n",
      "Epoch 43/100\n",
      "504/504 [==============================] - 0s 96us/step - loss: 101.4407 - val_loss: 112.4105\n",
      "Epoch 44/100\n",
      "504/504 [==============================] - 0s 106us/step - loss: 105.7132 - val_loss: 110.7263\n",
      "Epoch 45/100\n",
      "504/504 [==============================] - 0s 104us/step - loss: 110.4345 - val_loss: 112.0982\n",
      "Epoch 46/100\n",
      "504/504 [==============================] - 0s 91us/step - loss: 105.7248 - val_loss: 114.3864\n",
      "Epoch 47/100\n",
      "504/504 [==============================] - 0s 98us/step - loss: 101.9478 - val_loss: 110.4157\n",
      "Epoch 48/100\n",
      "504/504 [==============================] - 0s 101us/step - loss: 101.8571 - val_loss: 113.0791\n",
      "Epoch 49/100\n",
      "504/504 [==============================] - 0s 102us/step - loss: 99.5607 - val_loss: 113.3681\n",
      "Epoch 50/100\n",
      "504/504 [==============================] - 0s 108us/step - loss: 104.1109 - val_loss: 108.5082\n",
      "Epoch 51/100\n",
      "504/504 [==============================] - 0s 98us/step - loss: 100.3416 - val_loss: 109.2273\n",
      "Epoch 52/100\n",
      "504/504 [==============================] - 0s 107us/step - loss: 100.6841 - val_loss: 109.4033\n",
      "Epoch 53/100\n",
      "504/504 [==============================] - 0s 90us/step - loss: 104.0784 - val_loss: 108.1980\n",
      "Epoch 54/100\n",
      "504/504 [==============================] - 0s 89us/step - loss: 106.4858 - val_loss: 109.6461\n",
      "Epoch 55/100\n",
      "504/504 [==============================] - 0s 101us/step - loss: 112.5004 - val_loss: 109.9241\n",
      "Epoch 56/100\n",
      "504/504 [==============================] - 0s 98us/step - loss: 113.0979 - val_loss: 111.5100\n",
      "Epoch 57/100\n",
      "504/504 [==============================] - 0s 101us/step - loss: 102.4459 - val_loss: 108.2506\n",
      "Epoch 58/100\n",
      "504/504 [==============================] - 0s 96us/step - loss: 100.2083 - val_loss: 111.8671\n",
      "Epoch 59/100\n",
      "504/504 [==============================] - 0s 101us/step - loss: 103.0234 - val_loss: 116.6350\n",
      "Epoch 60/100\n",
      "504/504 [==============================] - 0s 104us/step - loss: 106.7946 - val_loss: 134.3728\n",
      "Epoch 61/100\n",
      "504/504 [==============================] - 0s 118us/step - loss: 112.8868 - val_loss: 114.7505\n",
      "Epoch 62/100\n",
      "504/504 [==============================] - 0s 92us/step - loss: 99.7063 - val_loss: 111.9314\n",
      "Epoch 63/100\n",
      "504/504 [==============================] - 0s 91us/step - loss: 100.7102 - val_loss: 108.2193\n",
      "Epoch 64/100\n",
      "504/504 [==============================] - 0s 94us/step - loss: 104.6194 - val_loss: 111.5705\n",
      "Epoch 65/100\n",
      "504/504 [==============================] - 0s 87us/step - loss: 99.7023 - val_loss: 110.1811\n",
      "Epoch 66/100\n",
      "504/504 [==============================] - 0s 100us/step - loss: 101.6796 - val_loss: 113.8101\n",
      "Epoch 67/100\n",
      "504/504 [==============================] - 0s 90us/step - loss: 101.0127 - val_loss: 114.1065\n",
      "Epoch 68/100\n",
      "504/504 [==============================] - 0s 85us/step - loss: 105.0250 - val_loss: 109.9848\n",
      "Epoch 69/100\n",
      "504/504 [==============================] - 0s 108us/step - loss: 105.2757 - val_loss: 108.7864\n",
      "Epoch 70/100\n",
      "504/504 [==============================] - 0s 95us/step - loss: 99.0042 - val_loss: 112.1647\n",
      "Epoch 71/100\n",
      "504/504 [==============================] - 0s 99us/step - loss: 99.9212 - val_loss: 108.4990\n",
      "Epoch 72/100\n",
      "504/504 [==============================] - 0s 92us/step - loss: 99.6568 - val_loss: 109.1484\n",
      "Epoch 73/100\n",
      "504/504 [==============================] - 0s 98us/step - loss: 100.3628 - val_loss: 111.1880\n",
      "Epoch 74/100\n",
      "504/504 [==============================] - 0s 89us/step - loss: 101.9527 - val_loss: 110.2706\n",
      "Epoch 75/100\n",
      "504/504 [==============================] - 0s 93us/step - loss: 102.4273 - val_loss: 108.8116\n",
      "Epoch 76/100\n",
      "504/504 [==============================] - 0s 96us/step - loss: 104.4079 - val_loss: 111.8692\n",
      "Epoch 77/100\n",
      "504/504 [==============================] - 0s 96us/step - loss: 103.2251 - val_loss: 114.6018\n",
      "Epoch 78/100\n",
      "504/504 [==============================] - 0s 99us/step - loss: 103.8327 - val_loss: 126.7455\n",
      "Epoch 79/100\n",
      "504/504 [==============================] - 0s 91us/step - loss: 112.6856 - val_loss: 139.0255\n",
      "Epoch 80/100\n",
      "504/504 [==============================] - 0s 86us/step - loss: 108.4770 - val_loss: 109.1166\n",
      "Epoch 81/100\n",
      "504/504 [==============================] - 0s 97us/step - loss: 101.2825 - val_loss: 114.4565\n",
      "Epoch 82/100\n",
      "504/504 [==============================] - 0s 88us/step - loss: 101.9858 - val_loss: 108.7751\n",
      "Epoch 83/100\n",
      "504/504 [==============================] - 0s 111us/step - loss: 101.1460 - val_loss: 108.5383\n",
      "Epoch 84/100\n",
      "504/504 [==============================] - 0s 101us/step - loss: 99.5233 - val_loss: 109.0038\n",
      "Epoch 85/100\n",
      "504/504 [==============================] - 0s 91us/step - loss: 102.9032 - val_loss: 113.5673\n",
      "Epoch 86/100\n",
      "504/504 [==============================] - 0s 88us/step - loss: 102.3814 - val_loss: 108.6833\n",
      "Epoch 87/100\n",
      "504/504 [==============================] - 0s 103us/step - loss: 103.1460 - val_loss: 111.5323\n",
      "Epoch 88/100\n",
      "504/504 [==============================] - 0s 92us/step - loss: 100.9358 - val_loss: 114.9357\n",
      "Epoch 89/100\n",
      "504/504 [==============================] - 0s 105us/step - loss: 102.1543 - val_loss: 108.1273\n",
      "Epoch 90/100\n",
      "504/504 [==============================] - 0s 92us/step - loss: 101.3246 - val_loss: 109.4605\n",
      "Epoch 91/100\n",
      "504/504 [==============================] - 0s 89us/step - loss: 100.2420 - val_loss: 108.3786\n",
      "Epoch 92/100\n",
      "504/504 [==============================] - 0s 100us/step - loss: 101.0737 - val_loss: 109.0286\n",
      "Epoch 93/100\n",
      "504/504 [==============================] - 0s 87us/step - loss: 102.8791 - val_loss: 109.4253\n",
      "Epoch 94/100\n",
      "504/504 [==============================] - 0s 103us/step - loss: 111.3255 - val_loss: 109.6260\n",
      "Epoch 95/100\n",
      "504/504 [==============================] - 0s 95us/step - loss: 99.7714 - val_loss: 109.9487\n",
      "Epoch 96/100\n",
      "504/504 [==============================] - 0s 114us/step - loss: 100.3588 - val_loss: 108.7503\n",
      "Epoch 97/100\n",
      "504/504 [==============================] - 0s 94us/step - loss: 100.9273 - val_loss: 109.0558\n",
      "Epoch 98/100\n",
      "504/504 [==============================] - 0s 92us/step - loss: 102.4979 - val_loss: 114.8653\n",
      "Epoch 99/100\n",
      "504/504 [==============================] - 0s 105us/step - loss: 102.0128 - val_loss: 118.7123\n",
      "Epoch 100/100\n",
      "504/504 [==============================] - 0s 97us/step - loss: 106.2628 - val_loss: 126.4067\n"
     ]
    },
    {
     "data": {
      "text/plain": [
       "<keras.callbacks.History at 0x7f29b07c2410>"
      ]
     },
     "execution_count": 26,
     "metadata": {},
     "output_type": "execute_result"
    }
   ],
   "source": [
    "baseline_model.fit(X_train,y_train,validation_split=0.3,epochs=100,verbose=1)"
   ]
  },
  {
   "cell_type": "code",
   "execution_count": 27,
   "id": "9ab52575-0452-4628-a691-2e259c656433",
   "metadata": {
    "tags": []
   },
   "outputs": [
    {
     "data": {
      "text/plain": [
       "(137.4149939993684, 67.1865276798484)"
      ]
     },
     "execution_count": 27,
     "metadata": {},
     "output_type": "execute_result"
    }
   ],
   "source": [
    "mse1_list = []\n",
    "\n",
    "for i in range(50):\n",
    "    # 1. Split the data (with random_state changing on each iteration for true randomness)\n",
    "    X_train, X_test, y_train, y_test = train_test_split(predictors, target, test_size=0.3)\n",
    "    \n",
    "    # 2. Create a new instance of the model\n",
    "    model = create_baseline_model(input_dim)\n",
    "    \n",
    "    # Train the model\n",
    "    model.fit(X_train, y_train, epochs=100, verbose=0)\n",
    "    \n",
    "    # 3. Predict on the test set and calculate MSE\n",
    "    y_pred = model.predict(X_test)\n",
    "    mse = mean_squared_error(y_test, y_pred)\n",
    "    \n",
    "    # Append the MSE to the list\n",
    "    mse1_list.append(mse)\n",
    "    \n",
    "# 5. Calculate the mean and standard deviation of the MSEs\n",
    "mse_mean1 = np.mean(mse1_list)\n",
    "mse_std1 = np.std(mse1_list)\n",
    "\n",
    "mse_mean1, mse_std1"
   ]
  },
  {
   "cell_type": "markdown",
   "id": "a90238b3-aef2-41aa-861a-4c5288ce80e2",
   "metadata": {},
   "source": [
    "# Part D ,increase hidden layers "
   ]
  },
  {
   "cell_type": "code",
   "execution_count": 28,
   "id": "e2625f89-d5bc-4ea3-8e3f-ee22c68ec580",
   "metadata": {
    "tags": []
   },
   "outputs": [],
   "source": [
    "def create_model(input_dim):\n",
    "    model = Sequential()\n",
    "    \n",
    "    # Add 3 hidden layer with 10 nodes and ReLU activation\n",
    "    model.add(Dense(10, activation='relu', input_shape=(input_dim,)))\n",
    "    model.add(Dense(10, activation='relu'))\n",
    "    model.add(Dense(10, activation='relu'))\n",
    "    # Output layer with a single node for regression (no activation function)\n",
    "    model.add(Dense(1))\n",
    "    \n",
    "    # Compile the model with the Adam optimizer and Mean Squared Error as the loss function\n",
    "    model.compile(optimizer=Adam(), loss='mean_squared_error')\n",
    "    \n",
    "    return model"
   ]
  },
  {
   "cell_type": "code",
   "execution_count": 29,
   "id": "4b614867-fdb7-471e-9586-7cde73a20966",
   "metadata": {
    "tags": []
   },
   "outputs": [
    {
     "data": {
      "text/plain": [
       "(124.07673712202755, 44.1380017680526)"
      ]
     },
     "execution_count": 29,
     "metadata": {},
     "output_type": "execute_result"
    }
   ],
   "source": [
    "mse_list2 = []\n",
    "\n",
    "for i in range(50):\n",
    "    # 1. Split the data (with random_state changing on each iteration for true randomness)\n",
    "    X_train, X_test, y_train, y_test = train_test_split(predictors, target, test_size=0.3)\n",
    "    \n",
    "    # 2. Create a new instance of the model\n",
    "    model = create_model(input_dim)\n",
    "    \n",
    "    # Train the model\n",
    "    model.fit(X_train, y_train, epochs=50, verbose=0)\n",
    "    \n",
    "    # 3. Predict on the test set and calculate MSE\n",
    "    y_pred = model.predict(X_test)\n",
    "    mse = mean_squared_error(y_test, y_pred)\n",
    "    \n",
    "    # Append the MSE to the list\n",
    "    mse_list2.append(mse)\n",
    "    \n",
    "# 5. Calculate the mean and standard deviation of the MSEs\n",
    "mse_mean2 = np.mean(mse_list2)\n",
    "mse_std2 = np.std(mse_list2)\n",
    "\n",
    "mse_mean2, mse_std2"
   ]
  }
 ],
 "metadata": {
  "kernelspec": {
   "display_name": "Python",
   "language": "python",
   "name": "conda-env-python-py"
  },
  "language_info": {
   "codemirror_mode": {
    "name": "ipython",
    "version": 3
   },
   "file_extension": ".py",
   "mimetype": "text/x-python",
   "name": "python",
   "nbconvert_exporter": "python",
   "pygments_lexer": "ipython3",
   "version": "3.7.12"
  }
 },
 "nbformat": 4,
 "nbformat_minor": 5
}
